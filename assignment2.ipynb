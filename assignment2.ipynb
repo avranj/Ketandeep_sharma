{
 "cells": [
  {
   "cell_type": "code",
   "execution_count": null,
   "id": "d7482137",
   "metadata": {},
   "outputs": [],
   "source": [
    "ans1\n",
    "\n",
    "boolean data types are True and False"
   ]
  },
  {
   "cell_type": "code",
   "execution_count": null,
   "id": "a0fae6da",
   "metadata": {},
   "outputs": [],
   "source": [
    "ans2\n",
    "three different types of boolean operators are\n",
    "and, or, not"
   ]
  },
  {
   "cell_type": "code",
   "execution_count": null,
   "id": "a9ab6308",
   "metadata": {},
   "outputs": [],
   "source": [
    "ans3\n",
    "a=[1,0,0,1]\n",
    "b=[0,0,1,0]\n",
    "#now doing  with different operators \n",
    "and=[0,0,0,0]\n",
    "\n",
    "or=[1,0,1,1]\n",
    "not=[0,1,1,0]\n",
    "\n"
   ]
  },
  {
   "cell_type": "code",
   "execution_count": null,
   "id": "ac316c39",
   "metadata": {},
   "outputs": [],
   "source": [
    "ans4\n",
    "\n",
    "(5 > 4) and (3 == 5)                 = 0\n",
    "not (5 > 4)                          = 0\n",
    "(5 > 4) or (3 == 5)                  = 1\n",
    "not ((5 > 4) or (3 == 5))            = 0\n",
    "(True and True) and (True == False)  = 0\n",
    "(not False) or (not True)            = 1\n"
   ]
  },
  {
   "cell_type": "code",
   "execution_count": null,
   "id": "aef75e36",
   "metadata": {},
   "outputs": [],
   "source": [
    "ans5\n",
    "6 comparisons operators are\n",
    "1 ==\n",
    "2 >\n",
    "3 <\n",
    "5 !=\n",
    "6 >= and <="
   ]
  },
  {
   "cell_type": "code",
   "execution_count": 4,
   "id": "062b5c43",
   "metadata": {},
   "outputs": [
    {
     "name": "stdout",
     "output_type": "stream",
     "text": [
      "a!=b\n"
     ]
    }
   ],
   "source": [
    "#ans6\n",
    "#assignment operator is used when we are assigning something to a variable\n",
    "a=10\n",
    "\n",
    "#while,\n",
    "#equal to operator will be \"==\"\n",
    "b=20\n",
    "if(a==b):\n",
    "    print(\"correct\")\n",
    "else:\n",
    "    print(\"a!=b\")"
   ]
  },
  {
   "cell_type": "code",
   "execution_count": null,
   "id": "0a3abf28",
   "metadata": {},
   "outputs": [],
   "source": [
    "ans7\n",
    "spam = 0\n",
    "#block 1\n",
    "if spam == 10:\n",
    "print('eggs')\n",
    "\n",
    "#block 2\n",
    "if spam > 5:\n",
    "print('bacon')\n",
    "\n",
    "#block 3\n",
    "else:\n",
    "print('ham')\n",
    "print('spam')\n",
    "print('spam')\n"
   ]
  },
  {
   "cell_type": "code",
   "execution_count": 5,
   "id": "4de6fa39",
   "metadata": {},
   "outputs": [
    {
     "name": "stdout",
     "output_type": "stream",
     "text": [
      "hello\n"
     ]
    }
   ],
   "source": [
    "#ans8 \n",
    "spam=1\n",
    "\n",
    "if(spam==1):\n",
    "    print(\"hello\")\n",
    "elif(spam==2):\n",
    "    print(\"howdy\")\n",
    "else:\n",
    "    print(\"anything\")"
   ]
  },
  {
   "cell_type": "code",
   "execution_count": null,
   "id": "1ce3da7f",
   "metadata": {},
   "outputs": [],
   "source": [
    "ans9\n",
    "\n",
    "To come out of endless loop\n",
    "press \"break\""
   ]
  },
  {
   "cell_type": "code",
   "execution_count": null,
   "id": "2d48026f",
   "metadata": {},
   "outputs": [],
   "source": [
    "ans10\n",
    "for i in range(10):\n",
    "    print(\"hello\",i)\n",
    "    break #(it will comeout of loop and start printing things which are downside of loops)\n",
    "    continue #(it will stop that particular iteration and start next while going back to the loop)\n",
    "    \n",
    "\n",
    "    "
   ]
  },
  {
   "cell_type": "code",
   "execution_count": null,
   "id": "90d56f73",
   "metadata": {},
   "outputs": [],
   "source": [
    "ans11\n",
    "range(10)= iteration will start from 0 and runs till 10-1= 9  \n",
    "\n",
    "range(0, 10)= iteration starts from 0 ends at 9\n",
    "\n",
    "range(0, 10, 1)= iteration starts from 0 ends at n-1 and gives a jump of 1\n"
   ]
  },
  {
   "cell_type": "code",
   "execution_count": 9,
   "id": "8387fcbe",
   "metadata": {},
   "outputs": [
    {
     "name": "stdout",
     "output_type": "stream",
     "text": [
      "1 2 3 4 5 6 7 8 9 10  \n",
      "1 2 3 4 5 6 7 8 9 10 "
     ]
    }
   ],
   "source": [
    "#ans12\n",
    "for i in range(1,11):\n",
    "    print(i,end=\" \")\n",
    "print(\" \")    \n",
    "n=10    \n",
    "while(n>0):\n",
    "    print(11-n, end=\" \")\n",
    "    n-=1"
   ]
  },
  {
   "cell_type": "code",
   "execution_count": null,
   "id": "0df21c18",
   "metadata": {},
   "outputs": [],
   "source": []
  }
 ],
 "metadata": {
  "kernelspec": {
   "display_name": "Python 3 (ipykernel)",
   "language": "python",
   "name": "python3"
  },
  "language_info": {
   "codemirror_mode": {
    "name": "ipython",
    "version": 3
   },
   "file_extension": ".py",
   "mimetype": "text/x-python",
   "name": "python",
   "nbconvert_exporter": "python",
   "pygments_lexer": "ipython3",
   "version": "3.7.9"
  }
 },
 "nbformat": 4,
 "nbformat_minor": 5
}
