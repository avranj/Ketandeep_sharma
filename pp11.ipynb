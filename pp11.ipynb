{
 "cells": [
  {
   "cell_type": "code",
   "execution_count": 1,
   "id": "59e62cef",
   "metadata": {},
   "outputs": [
    {
     "name": "stdout",
     "output_type": "stream",
     "text": [
      "False\n"
     ]
    }
   ],
   "source": [
    "#1.\tWrite a Python program to find words which are greater than given length k?\n",
    "def check(str,k):\n",
    "    if(len(str)==k):\n",
    "        print(\"True\")\n",
    "    else:\n",
    "        print(\"False\")\n",
    "        \n",
    "check(\"ketan\",6)        "
   ]
  },
  {
   "cell_type": "code",
   "execution_count": 4,
   "id": "71b57f8a",
   "metadata": {},
   "outputs": [
    {
     "name": "stdout",
     "output_type": "stream",
     "text": [
      "ketadeepsharma\n"
     ]
    }
   ],
   "source": [
    "# 2.\tWrite a Python program for removing i-th character from a string?\n",
    "\n",
    "def remove(str,i):\n",
    "    a=str[:i]\n",
    "    b=str[i+1:]\n",
    "    print(a+b)\n",
    "\n",
    "str=\"ketandeepsharma\"\n",
    "remove(str,4)\n"
   ]
  },
  {
   "cell_type": "code",
   "execution_count": 16,
   "id": "e3cecb15",
   "metadata": {},
   "outputs": [
    {
     "name": "stdout",
     "output_type": "stream",
     "text": [
      "ketan+deep+sharma\n"
     ]
    }
   ],
   "source": [
    "# 3 Write a Python program to split and join a string?\n",
    "\n",
    "def fun(str):\n",
    "    a=str.split(\" \")\n",
    "    a='+'.join(a)\n",
    "    print(a)\n",
    "str=\"ketan deep sharma\"\n",
    "fun(str)"
   ]
  },
  {
   "cell_type": "code",
   "execution_count": 24,
   "id": "17ad6b7d",
   "metadata": {},
   "outputs": [
    {
     "name": "stdout",
     "output_type": "stream",
     "text": [
      "true\n"
     ]
    }
   ],
   "source": [
    "# 4 4.\tWrite a Python to check if a given string is binary string or not?\n",
    "\n",
    "def check(str):\n",
    "    a=len(str)\n",
    "    if(str.count('1')+str.count('0')==a):\n",
    "        print(\"true\")\n",
    "    else:\n",
    "        print(\"false\")\n",
    "            \n",
    "            \n",
    "            \n",
    "            \n",
    "\n",
    "str=\"10001010010101010\"\n",
    "check(str)"
   ]
  },
  {
   "cell_type": "code",
   "execution_count": 22,
   "id": "45a8ed6f",
   "metadata": {},
   "outputs": [
    {
     "data": {
      "text/plain": [
       "'0'"
      ]
     },
     "execution_count": 22,
     "metadata": {},
     "output_type": "execute_result"
    }
   ],
   "source": [
    "str=\"10001010010101010\"\n",
    "a=len(str)\n",
    "str[a-1]"
   ]
  },
  {
   "cell_type": "code",
   "execution_count": 27,
   "id": "2df1a65c",
   "metadata": {},
   "outputs": [
    {
     "name": "stdout",
     "output_type": "stream",
     "text": [
      "e\n",
      "n\n",
      "r\n",
      "i\n"
     ]
    }
   ],
   "source": [
    "#5.\tWrite a Python program to find uncommon words from two Strings?\n",
    "def un(str1,str2):\n",
    "    a=len(str1)\n",
    "    b=len(str2)\n",
    "    for i in range(a):\n",
    "        if str1[i] not in str2:\n",
    "            print(str1[i])\n",
    "            \n",
    "    for i in  range(b):\n",
    "        if str2[i] not in str1:\n",
    "            print(str2[i])\n",
    "            \n",
    "    \n",
    "\n",
    "    \n",
    "    \n",
    "str1=\"ketan\"\n",
    "str2=\"kartik\"\n",
    "un(str1,str2)"
   ]
  },
  {
   "cell_type": "code",
   "execution_count": 34,
   "id": "71e2f669",
   "metadata": {},
   "outputs": [
    {
     "name": "stdout",
     "output_type": "stream",
     "text": [
      "e\n",
      "e\n"
     ]
    }
   ],
   "source": [
    "# 6.\tWrite a Python to find all duplicate characters in string?\n",
    "\n",
    "def fun(str):\n",
    "    for i in range(len(str)):\n",
    "        \n",
    "        for j in range(i+1,len(str)-1):\n",
    "            if(str[i]==str[j]):\n",
    "                print(str[i])\n",
    "                break\n",
    "\n",
    "\n",
    "str=\"ketandeep\"\n",
    "fun(str)"
   ]
  },
  {
   "cell_type": "code",
   "execution_count": 38,
   "id": "91fcb5ce",
   "metadata": {},
   "outputs": [
    {
     "name": "stdout",
     "output_type": "stream",
     "text": [
      "Object `character` not found.\n"
     ]
    }
   ],
   "source": [
    "7.\tWrite a Python Program to check if a string contains any special character?\n",
    "def fun(str):\n",
    "    a=len(str)\n",
    "    for i in range(a):\n",
    "         if(str[i]=='@' or str[i]=='#'):\n",
    "                print(\"true\")\n",
    "                break\n",
    "                \n",
    "\n",
    "str1=\"ket@n#\"\n",
    "str2=\"ketan\"\n",
    "fun(str2)"
   ]
  },
  {
   "cell_type": "code",
   "execution_count": null,
   "id": "171a1a3a",
   "metadata": {},
   "outputs": [],
   "source": []
  }
 ],
 "metadata": {
  "kernelspec": {
   "display_name": "Python 3 (ipykernel)",
   "language": "python",
   "name": "python3"
  },
  "language_info": {
   "codemirror_mode": {
    "name": "ipython",
    "version": 3
   },
   "file_extension": ".py",
   "mimetype": "text/x-python",
   "name": "python",
   "nbconvert_exporter": "python",
   "pygments_lexer": "ipython3",
   "version": "3.7.9"
  }
 },
 "nbformat": 4,
 "nbformat_minor": 5
}
