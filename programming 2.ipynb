{
 "cells": [
  {
   "cell_type": "code",
   "execution_count": 2,
   "id": "9a77cc94",
   "metadata": {},
   "outputs": [
    {
     "data": {
      "text/plain": [
       "125.0"
      ]
     },
     "execution_count": 2,
     "metadata": {},
     "output_type": "execute_result"
    }
   ],
   "source": [
    "#as 1 miles equals to 1.60 kms\n",
    "#so,\n",
    "a_km=200\n",
    "#to convert it into miles we have to divde it with 1.60\n",
    "\n",
    "a_miles=a_km/1.60\n",
    "a_miles"
   ]
  },
  {
   "cell_type": "code",
   "execution_count": 8,
   "id": "74b1a412",
   "metadata": {},
   "outputs": [
    {
     "data": {
      "text/plain": [
       "89.6"
      ]
     },
     "execution_count": 8,
     "metadata": {},
     "output_type": "execute_result"
    }
   ],
   "source": [
    "#to convert degree celcius to farenhite we have to multiply by 9/5 and add 32\n",
    "\n",
    "temp_degree=32\n",
    "\n",
    "temp_farenhite=((temp_degree)*1.8) + 32\n",
    "temp_farenhite"
   ]
  },
  {
   "cell_type": "code",
   "execution_count": 9,
   "id": "83bf0645",
   "metadata": {},
   "outputs": [
    {
     "ename": "ModuleNotFoundError",
     "evalue": "No module named 'calender'",
     "output_type": "error",
     "traceback": [
      "\u001b[1;31m---------------------------------------------------------------------------\u001b[0m",
      "\u001b[1;31mModuleNotFoundError\u001b[0m                       Traceback (most recent call last)",
      "\u001b[1;32mC:\\Users\\KETAND~1\\AppData\\Local\\Temp/ipykernel_19424/3183473530.py\u001b[0m in \u001b[0;36m<module>\u001b[1;34m\u001b[0m\n\u001b[1;32m----> 1\u001b[1;33m \u001b[1;32mimport\u001b[0m \u001b[0mcalender\u001b[0m\u001b[1;33m\u001b[0m\u001b[1;33m\u001b[0m\u001b[0m\n\u001b[0m",
      "\u001b[1;31mModuleNotFoundError\u001b[0m: No module named 'calender'"
     ]
    }
   ],
   "source": [
    "import calender#this is a module in python through which we can access any months or even a whole calender of a year\n",
    "\n",
    "yy=2017\n",
    "mm=11\n",
    "calender.month(yy,mm)"
   ]
  },
  {
   "cell_type": "code",
   "execution_count": 13,
   "id": "d17edf2e",
   "metadata": {},
   "outputs": [
    {
     "name": "stdout",
     "output_type": "stream",
     "text": [
      "d -15\n",
      "root1 (-2.5-1.9364916731037085j) root2 (-2.5+1.9364916731037085j)\n"
     ]
    }
   ],
   "source": [
    "4\n",
    "import cmath\n",
    "\n",
    "#ax**2 + bx +c\n",
    "a=1\n",
    "b=5\n",
    "c=10\n",
    "d=(b**2 - (4*a*c))\n",
    "print(\"d\",d)\n",
    "\n",
    "root1=(-b-cmath.sqrt(d))/(2*a)#using cmath library dirctly to find root\n",
    "root2=(-b+cmath.sqrt(d))/(2*a)\n",
    "print(\"root1\",root1,\"root2\",root2)\n"
   ]
  },
  {
   "cell_type": "code",
   "execution_count": 7,
   "id": "e675eba4",
   "metadata": {},
   "outputs": [
    {
     "name": "stdout",
     "output_type": "stream",
     "text": [
      "a 5\n",
      "b 2\n"
     ]
    }
   ],
   "source": [
    "#swap two numbers without using third variable\n",
    "a=2\n",
    "b=5\n",
    "#now\n",
    "\n",
    "a=a+b\n",
    "b=a-b\n",
    "a=a-b\n",
    "print(\"a\",a)\n",
    "print(\"b\",b)"
   ]
  },
  {
   "cell_type": "code",
   "execution_count": null,
   "id": "bed3b690",
   "metadata": {},
   "outputs": [],
   "source": []
  }
 ],
 "metadata": {
  "kernelspec": {
   "display_name": "Python 3 (ipykernel)",
   "language": "python",
   "name": "python3"
  },
  "language_info": {
   "codemirror_mode": {
    "name": "ipython",
    "version": 3
   },
   "file_extension": ".py",
   "mimetype": "text/x-python",
   "name": "python",
   "nbconvert_exporter": "python",
   "pygments_lexer": "ipython3",
   "version": "3.7.9"
  }
 },
 "nbformat": 4,
 "nbformat_minor": 5
}
