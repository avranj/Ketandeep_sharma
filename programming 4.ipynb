{
 "cells": [
  {
   "cell_type": "code",
   "execution_count": 1,
   "id": "a5dccd62",
   "metadata": {},
   "outputs": [
    {
     "name": "stdout",
     "output_type": "stream",
     "text": [
      "5\n",
      "120\n"
     ]
    }
   ],
   "source": [
    "# factorial of a number\n",
    "a=int(input())\n",
    "\n",
    "fact=1\n",
    "for i in range(2,a+1):\n",
    "    fact=fact*i\n",
    "print(fact)    "
   ]
  },
  {
   "cell_type": "code",
   "execution_count": 4,
   "id": "03a50704",
   "metadata": {},
   "outputs": [
    {
     "name": "stdout",
     "output_type": "stream",
     "text": [
      "8\n",
      "table \n",
      "8\n",
      "16\n",
      "24\n",
      "32\n",
      "40\n",
      "48\n",
      "56\n",
      "64\n",
      "72\n",
      "80\n"
     ]
    }
   ],
   "source": [
    "#multiplication table\n",
    "a=int(input())\n",
    "#print table of number present in a\n",
    "print(\"table:- \")\n",
    "for i in range(1,11):\n",
    "    print(a*i)"
   ]
  },
  {
   "cell_type": "code",
   "execution_count": 6,
   "id": "301913ca",
   "metadata": {},
   "outputs": [
    {
     "name": "stdout",
     "output_type": "stream",
     "text": [
      "6\n",
      "0\n",
      "1\n",
      "1\n",
      "2\n",
      "3\n",
      "5\n",
      "8\n",
      "13\n"
     ]
    }
   ],
   "source": [
    "#fibonnaci sequence\n",
    "\n",
    "a=int(input())\n",
    "\n",
    "x=0\n",
    "y=1\n",
    "print(x)\n",
    "print(y)\n",
    "for i in range(a):\n",
    "    c=x+y\n",
    "    print(c)\n",
    "    x=y\n",
    "    y=c\n",
    "    \n"
   ]
  },
  {
   "cell_type": "code",
   "execution_count": 11,
   "id": "7e08c357",
   "metadata": {},
   "outputs": [
    {
     "name": "stdout",
     "output_type": "stream",
     "text": [
      "371\n",
      "armstrong number\n"
     ]
    }
   ],
   "source": [
    "#armstrong number\n",
    "a=int(input())\n",
    "s=0\n",
    "temp=a\n",
    "\n",
    "while(a>0):\n",
    "    r=a%10\n",
    "    s=r*r*r + s\n",
    "    a=a//10\n",
    "if(s==temp):\n",
    "    print(\"armstrong number\")\n",
    "else:\n",
    "    print(\"no\")\n",
    "    "
   ]
  },
  {
   "cell_type": "code",
   "execution_count": 13,
   "id": "b42ff74d",
   "metadata": {},
   "outputs": [
    {
     "name": "stdout",
     "output_type": "stream",
     "text": [
      "sum of natural numbers b/w 1 to 100 = 5050\n"
     ]
    }
   ],
   "source": [
    "# sum of natural numbers\n",
    "sum=0\n",
    "for i in range(1,101):\n",
    "    sum=sum+i\n",
    "    \n",
    "print(\"sum of natural numbers b/w 1 to 100 =\",sum)    \n"
   ]
  },
  {
   "cell_type": "code",
   "execution_count": null,
   "id": "baa72326",
   "metadata": {},
   "outputs": [],
   "source": []
  }
 ],
 "metadata": {
  "kernelspec": {
   "display_name": "Python 3 (ipykernel)",
   "language": "python",
   "name": "python3"
  },
  "language_info": {
   "codemirror_mode": {
    "name": "ipython",
    "version": 3
   },
   "file_extension": ".py",
   "mimetype": "text/x-python",
   "name": "python",
   "nbconvert_exporter": "python",
   "pygments_lexer": "ipython3",
   "version": "3.7.9"
  }
 },
 "nbformat": 4,
 "nbformat_minor": 5
}
