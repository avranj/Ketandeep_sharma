{
 "cells": [
  {
   "cell_type": "code",
   "execution_count": null,
   "id": "ffb9c298",
   "metadata": {},
   "outputs": [],
   "source": [
    "# 1. What does RGBA stand for?\n",
    "r= red colour\n",
    "g= green colour\n",
    "b= blue colour\n",
    "a= alpha (opacity)"
   ]
  },
  {
   "cell_type": "code",
   "execution_count": null,
   "id": "0396083b",
   "metadata": {},
   "outputs": [],
   "source": [
    "# 2 2. From the Pillow module, how do you get the RGBA value of any images?\n",
    "from PIL import image\n",
    "img = Image.open(‘image.png’)\n",
    "\n",
    "rgba = img.convert(“RGBA”)\n",
    "\n",
    "datas = rgba.getdata()"
   ]
  },
  {
   "cell_type": "code",
   "execution_count": null,
   "id": "a89dd1ac",
   "metadata": {},
   "outputs": [],
   "source": [
    "# 3. What is a box tuple, and how does it work?\n",
    "How does the box tuple work?\n",
    "The crop() method on Image objects takes a box tuple and returns an Image object representing the cropped image. \n",
    "The cropping does not happen in place—that is, \n",
    "the original Image object is left untouched, and the crop() method returns a new Image object."
   ]
  },
  {
   "cell_type": "code",
   "execution_count": 6,
   "id": "3e951f52",
   "metadata": {},
   "outputs": [
    {
     "name": "stdout",
     "output_type": "stream",
     "text": [
      "The height of the image is:  476\n",
      "The width of the image is:  851\n"
     ]
    }
   ],
   "source": [
    "# 4\n",
    "#pip install pillow\n",
    "from PIL import Image\n",
    "  \n",
    "\n",
    "filepath = \"img.png\"\n",
    "img = Image.open(filepath)\n",
    "  \n",
    "\n",
    "width = img.width\n",
    "height = img.height\n",
    "  \n",
    "# display width and height\n",
    "print(\"The height of the image is: \", height)\n",
    "print(\"The width of the image is: \", width)"
   ]
  },
  {
   "cell_type": "code",
   "execution_count": 9,
   "id": "c18ac508",
   "metadata": {},
   "outputs": [],
   "source": [
    "# 5. What method would you call to get Image object for a 100×100 image, excluding the lower-left quarter of it?\n",
    "\n",
    "from PIL import Image\n",
    "import numpy as np\t\n",
    "\n",
    "\n",
    "img = Image.open(r\"img.png\").convert('RGB')\n",
    "img_arr = np.array(img)\n",
    "\n",
    "\n",
    "img_arr[0 : 400, 0 : 400] = (0, 0, 0)\n",
    "\n",
    "# Creating an image out of the previously modified array\n",
    "img = Image.fromarray(img_arr)\n",
    "\n",
    "# Displaying the image\n",
    "img.show()\n"
   ]
  },
  {
   "cell_type": "code",
   "execution_count": null,
   "id": "6ad9c4e3",
   "metadata": {},
   "outputs": [],
   "source": [
    "# 6 to save image\n",
    "\n",
    "img.save()# using image name only"
   ]
  },
  {
   "cell_type": "code",
   "execution_count": null,
   "id": "78004e76",
   "metadata": {},
   "outputs": [],
   "source": [
    "# 7 What is the module that allows us to draw lines and shapes?\n",
    "The drawing tools module provides tools that allow the user to draw and edit shapes on the map"
   ]
  },
  {
   "cell_type": "code",
   "execution_count": null,
   "id": "1d7e85a2",
   "metadata": {},
   "outputs": [],
   "source": []
  },
  {
   "cell_type": "code",
   "execution_count": null,
   "id": "c6a1ce43",
   "metadata": {},
   "outputs": [],
   "source": []
  }
 ],
 "metadata": {
  "kernelspec": {
   "display_name": "Python 3 (ipykernel)",
   "language": "python",
   "name": "python3"
  },
  "language_info": {
   "codemirror_mode": {
    "name": "ipython",
    "version": 3
   },
   "file_extension": ".py",
   "mimetype": "text/x-python",
   "name": "python",
   "nbconvert_exporter": "python",
   "pygments_lexer": "ipython3",
   "version": "3.7.9"
  }
 },
 "nbformat": 4,
 "nbformat_minor": 5
}
