{
 "cells": [
  {
   "cell_type": "code",
   "execution_count": null,
   "id": "659e3540",
   "metadata": {},
   "outputs": [],
   "source": [
    "Ans 1\n",
    "\n",
    "*           = Mathematical operator\n",
    "'hello'     = Value\n",
    "-87.8       = Value\n",
    "-           = Mathematical operator\n",
    "/           = Mathematical operator\n",
    "+\t        = Mathematical operator\n",
    "6           = Value\n"
   ]
  },
  {
   "cell_type": "code",
   "execution_count": null,
   "id": "17968e17",
   "metadata": {},
   "outputs": [],
   "source": [
    "Ans 2\n",
    "\n",
    "String is a collection of character represented in a inverted column (Not similar like character array)\n",
    "eg- string=\"ketandeep sharma\"\n",
    "\n",
    "Variable is kind of space where we map a certain type of values or we store different types of values and to store them we need a solid thing.\n",
    "for example a=10, b=\"c\", d=0.01 etc\n",
    "\n"
   ]
  },
  {
   "cell_type": "code",
   "execution_count": null,
   "id": "3e4882d6",
   "metadata": {},
   "outputs": [],
   "source": [
    "Ans 3\n",
    "int a=10\n",
    "float i=9.7\n",
    "boolean True or False"
   ]
  },
  {
   "cell_type": "code",
   "execution_count": 3,
   "id": "bc0da596",
   "metadata": {},
   "outputs": [
    {
     "data": {
      "text/plain": [
       "30"
      ]
     },
     "execution_count": 3,
     "metadata": {},
     "output_type": "execute_result"
    }
   ],
   "source": [
    "Ans 4\n",
    "An expression is made up of operators,variables and specifically doing something.\n",
    "a=10\n",
    "b=20\n",
    "a=a+b\n",
    "a"
   ]
  },
  {
   "cell_type": "code",
   "execution_count": null,
   "id": "585cf048",
   "metadata": {},
   "outputs": [],
   "source": [
    "Ans 5\n",
    "Expression is a collection of operators and variable and together doing an operation\n",
    "\n",
    "while statement spam =10 just telling that we have mapped integer 10 as a value on spam variable.\n",
    "\n"
   ]
  },
  {
   "cell_type": "code",
   "execution_count": 7,
   "id": "557fe024",
   "metadata": {},
   "outputs": [
    {
     "data": {
      "text/plain": [
       "22"
      ]
     },
     "execution_count": 7,
     "metadata": {},
     "output_type": "execute_result"
    }
   ],
   "source": [
    "Ans 6\n",
    "bacon = 22\n",
    "bacon + 1\n",
    "\n",
    "bacon\n",
    "#beacuse we have not updated bacon yet \n",
    "#Now\n"
   ]
  },
  {
   "cell_type": "code",
   "execution_count": 10,
   "id": "7d0155c3",
   "metadata": {},
   "outputs": [
    {
     "data": {
      "text/plain": [
       "'spamspamspam'"
      ]
     },
     "execution_count": 10,
     "metadata": {},
     "output_type": "execute_result"
    }
   ],
   "source": [
    "Ans 7\n",
    "'spam' + 'spamspam'\n",
    "'spam' * 3\n",
    "#(here both will print 3 times spam as output)\n"
   ]
  },
  {
   "cell_type": "code",
   "execution_count": null,
   "id": "e23fccac",
   "metadata": {},
   "outputs": [],
   "source": [
    "Ans 8\n",
    "An integer cannot be a vriable name(Programming rule)"
   ]
  },
  {
   "cell_type": "code",
   "execution_count": null,
   "id": "6d6ea3a4",
   "metadata": {},
   "outputs": [],
   "source": [
    "Ans 9\n",
    "In python we can use:\n",
    "chr()\n",
    "ord()"
   ]
  },
  {
   "cell_type": "code",
   "execution_count": null,
   "id": "9a158622",
   "metadata": {},
   "outputs": [],
   "source": [
    "Ans 10\n",
    "'I have eaten ' + 99 + ' burritos.'\n",
    "\n",
    "here the problem is we are concatinating an integer with two strings so due to type casting it will generate an error\n",
    "(python is a dynamically typed labguage dosent support implicit type casting)"
   ]
  },
  {
   "cell_type": "code",
   "execution_count": null,
   "id": "f4283f45",
   "metadata": {},
   "outputs": [],
   "source": []
  }
 ],
 "metadata": {
  "kernelspec": {
   "display_name": "Python 3 (ipykernel)",
   "language": "python",
   "name": "python3"
  },
  "language_info": {
   "codemirror_mode": {
    "name": "ipython",
    "version": 3
   },
   "file_extension": ".py",
   "mimetype": "text/x-python",
   "name": "python",
   "nbconvert_exporter": "python",
   "pygments_lexer": "ipython3",
   "version": "3.7.9"
  }
 },
 "nbformat": 4,
 "nbformat_minor": 5
}
