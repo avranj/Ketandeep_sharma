{
 "cells": [
  {
   "cell_type": "code",
   "execution_count": 1,
   "id": "c243e7cf",
   "metadata": {},
   "outputs": [
    {
     "ename": "SyntaxError",
     "evalue": "invalid syntax (Temp/ipykernel_1920/2714904384.py, line 2)",
     "output_type": "error",
     "traceback": [
      "\u001b[1;36m  File \u001b[1;32m\"C:\\Users\\KETAND~1\\AppData\\Local\\Temp/ipykernel_1920/2714904384.py\"\u001b[1;36m, line \u001b[1;32m2\u001b[0m\n\u001b[1;33m    a=\"my name is ketan \"avranj\" sharma\"\u001b[0m\n\u001b[1;37m                              ^\u001b[0m\n\u001b[1;31mSyntaxError\u001b[0m\u001b[1;31m:\u001b[0m invalid syntax\n"
     ]
    }
   ],
   "source": [
    "# escape characters = to insert a illegal character inside a string\n",
    "a=\"my name is ketan \"avranj\" sharma\""
   ]
  },
  {
   "cell_type": "code",
   "execution_count": 4,
   "id": "ddbf0f99",
   "metadata": {},
   "outputs": [
    {
     "data": {
      "text/plain": [
       "'my name is ketan \"avranj\" sharma'"
      ]
     },
     "execution_count": 4,
     "metadata": {},
     "output_type": "execute_result"
    }
   ],
   "source": [
    "#so to avoid the error\n",
    "a=\"my name is ketan \\\"avranj\\\" sharma\"\n",
    "a"
   ]
  },
  {
   "cell_type": "code",
   "execution_count": null,
   "id": "8267671f",
   "metadata": {},
   "outputs": [],
   "source": [
    "# 2. What do the escape characters n and t stand for?\n",
    "n is stand for new line\n",
    "t is stand for tab (basically gives a spave b/w two)"
   ]
  },
  {
   "cell_type": "code",
   "execution_count": 5,
   "id": "6b57f0fb",
   "metadata": {},
   "outputs": [
    {
     "name": "stdout",
     "output_type": "stream",
     "text": [
      "This will insert one \\ (backslash).\n"
     ]
    }
   ],
   "source": [
    "# 3. What is the way to include backslash characters in a string?\n",
    "txt = \"This will insert one \\\\ (backslash).\"\n",
    "print(txt) \n"
   ]
  },
  {
   "cell_type": "code",
   "execution_count": 7,
   "id": "5b7df26d",
   "metadata": {},
   "outputs": [
    {
     "data": {
      "text/plain": [
       "\"Howl's Moving Castle\""
      ]
     },
     "execution_count": 7,
     "metadata": {},
     "output_type": "execute_result"
    }
   ],
   "source": [
    "# 4. The string \"Howl's Moving Castle\" is a correct value. Why isn't the single quote character in the word Howl's not escaped a problem?\n",
    "a=\"Howl's Moving Castle\"\n",
    "a# here single quote is only behaving as an extension of that string"
   ]
  },
  {
   "cell_type": "code",
   "execution_count": 9,
   "id": "05a7678e",
   "metadata": {},
   "outputs": [
    {
     "data": {
      "text/plain": [
       "'Howl\"s Moving Castle'"
      ]
     },
     "execution_count": 9,
     "metadata": {},
     "output_type": "execute_result"
    }
   ],
   "source": [
    "b='Howl\"s Moving Castle'\n",
    "b"
   ]
  },
  {
   "cell_type": "code",
   "execution_count": 11,
   "id": "e0a03943",
   "metadata": {},
   "outputs": [
    {
     "name": "stdout",
     "output_type": "stream",
     "text": [
      "hello \n",
      " world\n"
     ]
    }
   ],
   "source": [
    "# 5. How do you write a string of newlines if you don't want to use the n character?\n",
    "#then we have to run different print() functions\n",
    "print(\"hello \\n world\")\n",
    "print(\"hello\")\n",
    "print(\"world\")"
   ]
  },
  {
   "cell_type": "code",
   "execution_count": 12,
   "id": "d1e82137",
   "metadata": {},
   "outputs": [
    {
     "data": {
      "text/plain": [
       "'e'"
      ]
     },
     "execution_count": 12,
     "metadata": {},
     "output_type": "execute_result"
    }
   ],
   "source": [
    "# 6 \n",
    "'Hello, world!'[1] = e\n",
    "'Hello, world!'[0:5] = hello\n",
    "'Hello, world!'[:5] = hello\n",
    "'Hello, world!'[3:] = lo, world!\n"
   ]
  },
  {
   "cell_type": "code",
   "execution_count": null,
   "id": "45f746c4",
   "metadata": {},
   "outputs": [],
   "source": [
    "# 7\n",
    "'Hello'.upper() = HELLO\n",
    "'Hello'.upper().isupper() = True\n",
    "'Hello'.upper().lower() = False\n"
   ]
  },
  {
   "cell_type": "code",
   "execution_count": 13,
   "id": "94704306",
   "metadata": {},
   "outputs": [
    {
     "data": {
      "text/plain": [
       "['Remember,', 'remember,', 'the', 'fifth', 'of', 'July.']"
      ]
     },
     "execution_count": 13,
     "metadata": {},
     "output_type": "execute_result"
    }
   ],
   "source": [
    "# 8\n",
    "'Remember, remember, the fifth of July.'.split()"
   ]
  },
  {
   "cell_type": "code",
   "execution_count": 14,
   "id": "b5a4bac9",
   "metadata": {},
   "outputs": [
    {
     "data": {
      "text/plain": [
       "'there-can-only-one.'"
      ]
     },
     "execution_count": 14,
     "metadata": {},
     "output_type": "execute_result"
    }
   ],
   "source": [
    "'-'.join('there can only one.'.split())"
   ]
  },
  {
   "cell_type": "code",
   "execution_count": 16,
   "id": "b8c57de4",
   "metadata": {},
   "outputs": [
    {
     "name": "stdout",
     "output_type": "stream",
     "text": [
      "     ketandeep sharma    \n"
     ]
    }
   ],
   "source": [
    "# 9. What are the methods for right-justifying, left-justifying, and centering a string?\n",
    "a=\"ketandeep sharma\"\n",
    "print(a.center(25))"
   ]
  },
  {
   "cell_type": "code",
   "execution_count": 17,
   "id": "205e52c9",
   "metadata": {},
   "outputs": [
    {
     "name": "stdout",
     "output_type": "stream",
     "text": [
      "ketandeep sharma    \n"
     ]
    }
   ],
   "source": [
    "print(a.ljust(20))"
   ]
  },
  {
   "cell_type": "code",
   "execution_count": 18,
   "id": "410f1747",
   "metadata": {},
   "outputs": [
    {
     "name": "stdout",
     "output_type": "stream",
     "text": [
      "                                                   ketandeep sharma\n"
     ]
    }
   ],
   "source": [
    "print(a.rjust(67))"
   ]
  },
  {
   "cell_type": "code",
   "execution_count": 19,
   "id": "a2b3faa6",
   "metadata": {},
   "outputs": [
    {
     "name": "stdout",
     "output_type": "stream",
     "text": [
      "ketan deep sharma\n"
     ]
    }
   ],
   "source": [
    "# 10. What is the best way to remove whitespace characters from the start or end?\n",
    "a=\"     ketan deep sharma     \"\n",
    "print(a.strip())"
   ]
  },
  {
   "cell_type": "code",
   "execution_count": null,
   "id": "31d72a32",
   "metadata": {},
   "outputs": [],
   "source": []
  }
 ],
 "metadata": {
  "kernelspec": {
   "display_name": "Python 3 (ipykernel)",
   "language": "python",
   "name": "python3"
  },
  "language_info": {
   "codemirror_mode": {
    "name": "ipython",
    "version": 3
   },
   "file_extension": ".py",
   "mimetype": "text/x-python",
   "name": "python",
   "nbconvert_exporter": "python",
   "pygments_lexer": "ipython3",
   "version": "3.7.9"
  }
 },
 "nbformat": 4,
 "nbformat_minor": 5
}
