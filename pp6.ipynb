{
 "cells": [
  {
   "cell_type": "code",
   "execution_count": 3,
   "id": "8fdf4bbc",
   "metadata": {},
   "outputs": [
    {
     "data": {
      "text/plain": [
       "34"
      ]
     },
     "execution_count": 3,
     "metadata": {},
     "output_type": "execute_result"
    }
   ],
   "source": [
    "#1 fibonnaci using recursion\n",
    "def fib(a):\n",
    "    if a<=1:\n",
    "        return a\n",
    "    return fib(a-1)+fib(a-2)\n",
    "\n",
    "fib(9)\n"
   ]
  },
  {
   "cell_type": "code",
   "execution_count": 4,
   "id": "93e4ba13",
   "metadata": {},
   "outputs": [
    {
     "data": {
      "text/plain": [
       "120"
      ]
     },
     "execution_count": 4,
     "metadata": {},
     "output_type": "execute_result"
    }
   ],
   "source": [
    "# 2 factorial using recursion\n",
    "def fact(a):\n",
    "    if a<=1:\n",
    "        return a\n",
    "    return a*fact(a-1)\n",
    "fact(5)"
   ]
  },
  {
   "cell_type": "code",
   "execution_count": 5,
   "id": "fb92b065",
   "metadata": {},
   "outputs": [
    {
     "name": "stdout",
     "output_type": "stream",
     "text": [
      "BMI =  0.0022093170054286074\n"
     ]
    }
   ],
   "source": [
    "# 3 BMI = mass/(height)**2\n",
    "\n",
    "def bmi(m,h):\n",
    "    finalh=h**2\n",
    "    ans=m/finalh\n",
    "    print(\"BMI = \",ans)\n",
    "    \n",
    "    \n",
    "bmi(70,178)  # approx 22 bmi  \n",
    "    "
   ]
  },
  {
   "cell_type": "code",
   "execution_count": 11,
   "id": "36f71a44",
   "metadata": {},
   "outputs": [
    {
     "name": "stdout",
     "output_type": "stream",
     "text": [
      "2.8903717578961645\n"
     ]
    }
   ],
   "source": [
    "# 4 natural log of any number\n",
    "import math\n",
    "def natural(a):\n",
    "    print(math.log(a))\n",
    "    \n",
    "    \n",
    "natural(18)   \n",
    "    "
   ]
  },
  {
   "cell_type": "code",
   "execution_count": 12,
   "id": "ad52f457",
   "metadata": {},
   "outputs": [
    {
     "name": "stdout",
     "output_type": "stream",
     "text": [
      "2025\n"
     ]
    }
   ],
   "source": [
    "# 5 cube sum of first natural numbers\n",
    "def cube(n):\n",
    "    sum=1\n",
    "    \n",
    "    for i in range(1,n):\n",
    "        while(i>1):\n",
    "            rem=i%10\n",
    "            sum=sum+(rem*rem*rem)\n",
    "            i=i/10\n",
    "    print(sum)\n",
    "    \n",
    "cube(10)    \n",
    "            \n",
    "            "
   ]
  },
  {
   "cell_type": "code",
   "execution_count": null,
   "id": "72366859",
   "metadata": {},
   "outputs": [],
   "source": []
  }
 ],
 "metadata": {
  "kernelspec": {
   "display_name": "Python 3 (ipykernel)",
   "language": "python",
   "name": "python3"
  },
  "language_info": {
   "codemirror_mode": {
    "name": "ipython",
    "version": 3
   },
   "file_extension": ".py",
   "mimetype": "text/x-python",
   "name": "python",
   "nbconvert_exporter": "python",
   "pygments_lexer": "ipython3",
   "version": "3.7.9"
  }
 },
 "nbformat": 4,
 "nbformat_minor": 5
}
