{
 "cells": [
  {
   "cell_type": "code",
   "execution_count": 3,
   "id": "6b81012d",
   "metadata": {},
   "outputs": [
    {
     "name": "stdout",
     "output_type": "stream",
     "text": [
      "not diasarium number 32\n"
     ]
    }
   ],
   "source": [
    "#1 Write a Python program to check if the given number is a Disarium Number?\n",
    "n=123\n",
    "\n",
    "sum=0\n",
    "l=3\n",
    "while(n>0):\n",
    "    r=n%10\n",
    "    sum=sum+(r**l)\n",
    "    n=n//10\n",
    "    l-=1\n",
    "if sum==n:\n",
    "    print(\"diasarium number\",sum)\n",
    "else:\n",
    "    print(\"not diasarium number\",sum)"
   ]
  },
  {
   "cell_type": "code",
   "execution_count": 11,
   "id": "835a7423",
   "metadata": {},
   "outputs": [
    {
     "name": "stdout",
     "output_type": "stream",
     "text": [
      "diasirium number 1\n",
      "diasirium number 2\n",
      "diasirium number 3\n",
      "diasirium number 4\n",
      "diasirium number 5\n",
      "diasirium number 6\n",
      "diasirium number 7\n",
      "diasirium number 8\n",
      "diasirium number 9\n",
      "no 1\n",
      "no 2\n",
      "no 5\n",
      "no 10\n",
      "no 17\n",
      "no 26\n",
      "no 37\n",
      "no 50\n",
      "no 65\n",
      "no 82\n",
      "no 2\n",
      "no 3\n",
      "no 6\n",
      "no 11\n",
      "no 18\n",
      "no 27\n",
      "no 38\n",
      "no 51\n",
      "no 66\n",
      "no 83\n",
      "no 3\n",
      "no 4\n",
      "no 7\n",
      "no 12\n",
      "no 19\n",
      "no 28\n",
      "no 39\n",
      "no 52\n",
      "no 67\n",
      "no 84\n",
      "no 4\n",
      "no 5\n",
      "no 8\n",
      "no 13\n",
      "no 20\n",
      "no 29\n",
      "no 40\n",
      "no 53\n",
      "no 68\n",
      "no 85\n",
      "no 5\n",
      "no 6\n",
      "no 9\n",
      "no 14\n",
      "no 21\n",
      "no 30\n",
      "no 41\n",
      "no 54\n",
      "no 69\n",
      "no 86\n",
      "no 6\n",
      "no 7\n",
      "no 10\n",
      "no 15\n",
      "no 22\n",
      "no 31\n",
      "no 42\n",
      "no 55\n",
      "no 70\n",
      "no 87\n",
      "no 7\n",
      "no 8\n",
      "no 11\n",
      "no 16\n",
      "no 23\n",
      "no 32\n",
      "no 43\n",
      "no 56\n",
      "no 71\n",
      "no 88\n",
      "no 8\n",
      "no 9\n",
      "no 12\n",
      "no 17\n",
      "no 24\n",
      "no 33\n",
      "no 44\n",
      "no 57\n",
      "no 72\n",
      "diasirium number 89\n",
      "no 9\n",
      "no 10\n",
      "no 13\n",
      "no 18\n",
      "no 25\n",
      "no 34\n",
      "no 45\n",
      "no 58\n",
      "no 73\n",
      "no 90\n",
      "no 1\n"
     ]
    }
   ],
   "source": [
    "#2.\tWrite a Python program to print all disarium numbers between 1 to 100?\n",
    "for i in range(1,101):\n",
    "    sum=0\n",
    "    temp=i\n",
    "    a=str(i)\n",
    "    p=len(a)\n",
    "    while(i>0):\n",
    "        r=i%10\n",
    "        sum=sum+(r**p)\n",
    "        i=i//10\n",
    "        p-=1\n",
    "    if sum==temp:\n",
    "        print(\"diasirium number\",sum)\n",
    "    else:\n",
    "        print(\"no\",sum)\n",
    "    \n",
    "    "
   ]
  },
  {
   "cell_type": "code",
   "execution_count": 6,
   "id": "5b0bc4b5",
   "metadata": {},
   "outputs": [
    {
     "name": "stdout",
     "output_type": "stream",
     "text": [
      "not a happy number 13\n"
     ]
    }
   ],
   "source": [
    "# 3.\tWrite a Python program to check if the given number is Happy Number?\n",
    "n=13\n",
    "sum=0\n",
    "temp=n\n",
    "while(n>0 or sum>0):\n",
    "    r=n%10\n",
    "    sum=sum+(r**2)\n",
    "    n=n//10\n",
    "if sum==1:\n",
    "    print(\"happy number\",temp)\n",
    "else:\n",
    "    print(\"not a happy number\",temp)\n"
   ]
  },
  {
   "cell_type": "code",
   "execution_count": 1,
   "id": "95cbc122",
   "metadata": {},
   "outputs": [
    {
     "name": "stdout",
     "output_type": "stream",
     "text": [
      "1\n"
     ]
    }
   ],
   "source": [
    "#range of happy numbers 1 100\n",
    "for n in range(1,101):\n",
    "    sum=0\n",
    "    temp=n\n",
    "    while(n>0):\n",
    "        r=n%10\n",
    "        sum=sum+(r**2)\n",
    "        n=n//10\n",
    "print(sum)        "
   ]
  },
  {
   "cell_type": "code",
   "execution_count": 3,
   "id": "a8ae292f",
   "metadata": {},
   "outputs": [
    {
     "name": "stdout",
     "output_type": "stream",
     "text": [
      "False\n"
     ]
    }
   ],
   "source": [
    "# harshad number\n",
    "def harshd(a):\n",
    "    sum=0\n",
    "    while(a>1):\n",
    "        rem=a%10\n",
    "        sum=sum+rem\n",
    "        a=a/10\n",
    "    if(a%sum==0):\n",
    "        print(True)\n",
    "    else:\n",
    "        print(False)\n",
    "        \n",
    "harshd(152)        \n",
    "        "
   ]
  },
  {
   "cell_type": "code",
   "execution_count": 5,
   "id": "98177bf7",
   "metadata": {},
   "outputs": [
    {
     "name": "stdout",
     "output_type": "stream",
     "text": [
      "true\n"
     ]
    }
   ],
   "source": [
    "# 1-100 pronic number\n",
    "def pronic(a):\n",
    "    for i in range(a):\n",
    "        if(1*(i+1)==a):\n",
    "            print(\"true\")\n",
    "            break\n",
    "        \n",
    "          \n",
    "pronic(6)\n",
    "\n",
    "            \n",
    "            "
   ]
  },
  {
   "cell_type": "code",
   "execution_count": null,
   "id": "c035c03a",
   "metadata": {},
   "outputs": [],
   "source": []
  }
 ],
 "metadata": {
  "kernelspec": {
   "display_name": "Python 3 (ipykernel)",
   "language": "python",
   "name": "python3"
  },
  "language_info": {
   "codemirror_mode": {
    "name": "ipython",
    "version": 3
   },
   "file_extension": ".py",
   "mimetype": "text/x-python",
   "name": "python",
   "nbconvert_exporter": "python",
   "pygments_lexer": "ipython3",
   "version": "3.7.9"
  }
 },
 "nbformat": 4,
 "nbformat_minor": 5
}
