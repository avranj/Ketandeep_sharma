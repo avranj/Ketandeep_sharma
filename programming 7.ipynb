{
 "cells": [
  {
   "cell_type": "code",
   "execution_count": 4,
   "id": "46df821a",
   "metadata": {},
   "outputs": [
    {
     "name": "stdout",
     "output_type": "stream",
     "text": [
      "sum of array =  35\n"
     ]
    }
   ],
   "source": [
    "# 1.\tWrite a Python Program to find sum of array?\n",
    "arr=[2,7,5,4,8,9]\n",
    "sum=0\n",
    "for i in range(len(array)):\n",
    "    sum=sum+arr[i]\n",
    "print(\"sum of array = \",sum)    \n",
    "    "
   ]
  },
  {
   "cell_type": "code",
   "execution_count": 5,
   "id": "9543907b",
   "metadata": {},
   "outputs": [
    {
     "name": "stdout",
     "output_type": "stream",
     "text": [
      "max. element 9\n"
     ]
    }
   ],
   "source": [
    "# 2.\tWrite a Python Program to find largest element in an array?\n",
    "arr=[2,7,5,4,8,9]\n",
    "max=arr[0]\n",
    "for i in range(1,len(arr)):\n",
    "    if arr[i]>max:\n",
    "        max=arr[i]\n",
    "print(\"max. element\",max)        "
   ]
  },
  {
   "cell_type": "code",
   "execution_count": 9,
   "id": "b81e09c2",
   "metadata": {},
   "outputs": [
    {
     "name": "stdout",
     "output_type": "stream",
     "text": [
      "[2, 7, 5]\n",
      "[4, 8, 9]\n",
      "[4, 8, 9, 2, 7, 5]\n"
     ]
    }
   ],
   "source": [
    "# 3.\tWrite a Python Program for array rotation?\n",
    "arr=[2,7,5,4,8,9]\n",
    "a=arr[:3]\n",
    "b=arr[3:]\n",
    "print(a)\n",
    "print(b)\n",
    "# rotating it by 3\n",
    "newarr=b+a\n",
    "print(newarr)\n",
    "\n",
    "\n",
    "\n"
   ]
  },
  {
   "cell_type": "code",
   "execution_count": 10,
   "id": "db46d8ab",
   "metadata": {},
   "outputs": [
    {
     "name": "stdout",
     "output_type": "stream",
     "text": [
      "[3, 4, 5, 1, 2]\n"
     ]
    }
   ],
   "source": [
    "# 4.\tWrite a Python Program to Split the array and add the first part to the end?\n",
    "arr=[1,2,3,4,5]\n",
    "first=arr[:2]\n",
    "second=arr[2:]\n",
    "updated=second + first\n",
    "print(updated)"
   ]
  },
  {
   "cell_type": "code",
   "execution_count": 7,
   "id": "3346f2f5",
   "metadata": {},
   "outputs": [],
   "source": [
    "# 5.\tWrite a Python Program to check if given array is Monotonic?\n",
    "arr=[2,7,5,4,8,9]\n",
    "for i in range(len(arr)-1):\n",
    "    j=i+1\n",
    "    if i<j and arr[i]<arr[j]:\n",
    "        pass\n",
    "    else:\n",
    "        print(\"monotonic\")\n",
    "    break    \n"
   ]
  },
  {
   "cell_type": "code",
   "execution_count": null,
   "id": "08718a1a",
   "metadata": {},
   "outputs": [],
   "source": []
  }
 ],
 "metadata": {
  "kernelspec": {
   "display_name": "Python 3 (ipykernel)",
   "language": "python",
   "name": "python3"
  },
  "language_info": {
   "codemirror_mode": {
    "name": "ipython",
    "version": 3
   },
   "file_extension": ".py",
   "mimetype": "text/x-python",
   "name": "python",
   "nbconvert_exporter": "python",
   "pygments_lexer": "ipython3",
   "version": "3.7.9"
  }
 },
 "nbformat": 4,
 "nbformat_minor": 5
}
