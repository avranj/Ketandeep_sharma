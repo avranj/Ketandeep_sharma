{
 "cells": [
  {
   "cell_type": "code",
   "execution_count": 1,
   "id": "5fa0a033",
   "metadata": {},
   "outputs": [
    {
     "name": "stdout",
     "output_type": "stream",
     "text": [
      "total sum =   43\n"
     ]
    }
   ],
   "source": [
    "# sum of elements in a list\n",
    "a=[2,6,5,3,8,9,10]\n",
    "sum=0\n",
    "for i in range(len(a)):\n",
    "    sum=sum+a[i]\n",
    "print(\"total sum =  \",sum)    \n"
   ]
  },
  {
   "cell_type": "code",
   "execution_count": 6,
   "id": "9538d4e4",
   "metadata": {},
   "outputs": [
    {
     "name": "stdout",
     "output_type": "stream",
     "text": [
      "129600\n"
     ]
    }
   ],
   "source": [
    "# multiply all numbers in a list\n",
    "a=[2,6,5,3,8,9,10]\n",
    "mul=1\n",
    "for i in range(len(a)):\n",
    "    mul=mul*a[i]\n",
    "print(mul)    \n",
    "    \n"
   ]
  },
  {
   "cell_type": "code",
   "execution_count": 9,
   "id": "09d98cc2",
   "metadata": {},
   "outputs": [
    {
     "name": "stdout",
     "output_type": "stream",
     "text": [
      "minimum number : 3\n"
     ]
    }
   ],
   "source": [
    "# smallest number in a list\n",
    "a=[4,6,5,3,8,9,10]\n",
    "min=a[0]\n",
    "for i in range(1,len(a)):\n",
    "    if a[i]<min:\n",
    "        min=a[i]\n",
    "        \n",
    "print(\"minimum number :\",min)        "
   ]
  },
  {
   "cell_type": "code",
   "execution_count": 10,
   "id": "3199459c",
   "metadata": {},
   "outputs": [
    {
     "name": "stdout",
     "output_type": "stream",
     "text": [
      "minimum number : 10\n"
     ]
    }
   ],
   "source": [
    "# largest number in a list\n",
    "a=[4,6,5,3,8,9,10]\n",
    "max=a[0]\n",
    "for i in range(1,len(a)):\n",
    "    if a[i]>max:\n",
    "        max=a[i]\n",
    "        \n",
    "print(\"minimum number :\",max) "
   ]
  },
  {
   "cell_type": "code",
   "execution_count": 15,
   "id": "d4c60d89",
   "metadata": {},
   "outputs": [
    {
     "name": "stdout",
     "output_type": "stream",
     "text": [
      "sorted array [3, 4, 5, 6, 8, 9, 10]\n",
      "second largest element 9\n"
     ]
    }
   ],
   "source": [
    "# second largest number\n",
    "a=[4,6,5,3,8,9,10]\n",
    "a.sort()\n",
    "print(\"sorted array\",a)\n",
    "z=len(a)-2\n",
    "print(\"second largest element\",a[z])"
   ]
  },
  {
   "cell_type": "code",
   "execution_count": null,
   "id": "47c542cc",
   "metadata": {},
   "outputs": [],
   "source": [
    "# to find n largest element from a list just subtract that number from a array length after sorting the array\n",
    "a.sort()\n",
    "print(a[n-k])"
   ]
  },
  {
   "cell_type": "code",
   "execution_count": 17,
   "id": "7f1c4175",
   "metadata": {},
   "outputs": [
    {
     "name": "stdout",
     "output_type": "stream",
     "text": [
      "even number =  4\n",
      "even number =  6\n",
      "even number =  8\n",
      "even number =  10\n"
     ]
    }
   ],
   "source": [
    "# even number\n",
    "a=[4,6,5,3,8,9,10]\n",
    "for i in range(len(a)):\n",
    "    if a[i]%2==0:\n",
    "        print(\"even number = \", a[i])\n"
   ]
  },
  {
   "cell_type": "code",
   "execution_count": 18,
   "id": "f37b00bd",
   "metadata": {},
   "outputs": [
    {
     "name": "stdout",
     "output_type": "stream",
     "text": [
      "odd number =  5\n",
      "odd number =  3\n",
      "odd number =  9\n"
     ]
    }
   ],
   "source": [
    "a=[4,6,5,3,8,9,10]\n",
    "for i in range(len(a)):\n",
    "    if a[i]%2==1:\n",
    "        print(\"odd number = \",a[i])\n"
   ]
  },
  {
   "cell_type": "code",
   "execution_count": 23,
   "id": "9c7473f1",
   "metadata": {},
   "outputs": [
    {
     "data": {
      "text/plain": [
       "[4, 6, 5, 3, 8, 9, 10]"
      ]
     },
     "execution_count": 23,
     "metadata": {},
     "output_type": "execute_result"
    }
   ],
   "source": [
    "# remove empty list from list\n",
    "def remove(arr):\n",
    "    newlist=[]\n",
    "    for i in range(len(arr)):\n",
    "        if arr[i]:\n",
    "            newlist.append(arr[i])\n",
    "    return newlist        \n",
    "\n",
    "\n",
    "a=[4,6,5,[],3,8,[],9,10]\n",
    "remove(a)\n",
    "\n"
   ]
  },
  {
   "cell_type": "code",
   "execution_count": 24,
   "id": "eb5242e4",
   "metadata": {},
   "outputs": [
    {
     "name": "stdout",
     "output_type": "stream",
     "text": [
      "[4, 6, 5, 3, 8, 9, 10]\n",
      "[4, 6, 5, 3, 8, 9, 10]\n"
     ]
    }
   ],
   "source": [
    "# copying a list\n",
    "\n",
    "a=[4,6,5,3,8,9,10]\n",
    "b=[]\n",
    "b=a\n",
    "print(a)\n",
    "print(b)"
   ]
  },
  {
   "cell_type": "code",
   "execution_count": null,
   "id": "b12d4c71",
   "metadata": {},
   "outputs": [],
   "source": []
  }
 ],
 "metadata": {
  "kernelspec": {
   "display_name": "Python 3 (ipykernel)",
   "language": "python",
   "name": "python3"
  },
  "language_info": {
   "codemirror_mode": {
    "name": "ipython",
    "version": 3
   },
   "file_extension": ".py",
   "mimetype": "text/x-python",
   "name": "python",
   "nbconvert_exporter": "python",
   "pygments_lexer": "ipython3",
   "version": "3.7.9"
  }
 },
 "nbformat": 4,
 "nbformat_minor": 5
}
