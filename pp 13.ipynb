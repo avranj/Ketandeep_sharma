{
 "cells": [
  {
   "cell_type": "code",
   "execution_count": 4,
   "id": "e2293cce",
   "metadata": {},
   "outputs": [
    {
     "name": "stdout",
     "output_type": "stream",
     "text": [
      "23,56\n",
      "8\n",
      "13\n"
     ]
    }
   ],
   "source": [
    "# 1\n",
    "import math\n",
    "d_inputs=[d for d in input().split(',')]\n",
    "c=50\n",
    "h=30\n",
    "for i in d_inputs:\n",
    "    res=int(math.sqrt((2*c*float(i))/h))\n",
    "    print(res)\n"
   ]
  },
  {
   "cell_type": "code",
   "execution_count": 12,
   "id": "f2a45d04",
   "metadata": {},
   "outputs": [
    {
     "name": "stdout",
     "output_type": "stream",
     "text": [
      "original [[0, 0, 0], [0, 0, 0], [0, 0, 0]]\n",
      "multi_list [[0, 0, 0], [0, 1, 2], [0, 2, 4]]\n"
     ]
    }
   ],
   "source": [
    "# 2\n",
    "\n",
    "multi_list = [[0 for col in range(3)] for row in range(3)]\n",
    "print(\"original\",multi_list)\n",
    "#multi_list=[]\n",
    "for i in range(3):\n",
    "    for j in range(3):\n",
    "        multi_list[i][j]=i*j\n",
    "        \n",
    "print(\"multi_list\",multi_list)        \n"
   ]
  },
  {
   "cell_type": "markdown",
   "id": "7dc95ecb",
   "metadata": {},
   "source": []
  },
  {
   "cell_type": "code",
   "execution_count": 14,
   "id": "182b9a52",
   "metadata": {},
   "outputs": [
    {
     "name": "stdout",
     "output_type": "stream",
     "text": [
      "mohan,ketan,deep\n",
      "['mohan', 'ketan', 'deep']\n"
     ]
    },
    {
     "data": {
      "text/plain": [
       "['deep', 'ketan', 'mohan']"
      ]
     },
     "execution_count": 14,
     "metadata": {},
     "output_type": "execute_result"
    }
   ],
   "source": [
    "#3\n",
    "list1=[d for d in input().split(',')]\n",
    "print(list1)\n",
    "# sorting alphabetically\n",
    "res=sorted(list1)\n",
    "res"
   ]
  },
  {
   "cell_type": "code",
   "execution_count": 19,
   "id": "cae4fa85",
   "metadata": {},
   "outputs": [
    {
     "name": "stdout",
     "output_type": "stream",
     "text": [
      "ketan dep sharma dep\n",
      "['ketan', 'dep', 'sharma', 'dep']\n",
      "['dep', 'ketan', 'sharma']\n"
     ]
    }
   ],
   "source": [
    "# 4\n",
    "li=[d for d in input().split(' ')]\n",
    "print(li)\n",
    "\n",
    "# duplicate removing\n",
    "l1=[]\n",
    "for i in li:\n",
    "    if i not in l1:\n",
    "        l1.append(i)\n",
    "res=sorted(l1)   \n",
    "print(res)"
   ]
  },
  {
   "cell_type": "code",
   "execution_count": 29,
   "id": "406c2142",
   "metadata": {},
   "outputs": [
    {
     "name": "stdout",
     "output_type": "stream",
     "text": [
      "ketan$45\n",
      "digit 2 letter 5\n"
     ]
    }
   ],
   "source": [
    "a=input()\n",
    "letter=0\n",
    "digit=0\n",
    "for i in a:\n",
    "    if (i.isdigit()):\n",
    "        digit+=1\n",
    "    if(i.isalpha()):\n",
    "        letter+=1\n",
    "        \n",
    "print('digit',digit,'letter',letter)        "
   ]
  },
  {
   "cell_type": "code",
   "execution_count": 31,
   "id": "89c5e4a7",
   "metadata": {},
   "outputs": [
    {
     "name": "stdout",
     "output_type": "stream",
     "text": [
      "ketan$345,kji/*09\n",
      "\n"
     ]
    }
   ],
   "source": [
    "# password checker\n",
    "import re\n",
    "value = []\n",
    "items = [ x for x in input().split(',')]\n",
    "for p in items:\n",
    "    if len(p)<6 or len(p)>12:\n",
    "        continue\n",
    "    else:\n",
    "        pass\n",
    "    if not re.search(\"[a-z]\",p):\n",
    "        continue\n",
    "    elif not re.search(\"[0-9]\",p):\n",
    "        continue\n",
    "    elif not re.search(\"[A-Z]\",p):\n",
    "        continue\n",
    "    elif not re.search(\"[$#@]\",p):\n",
    "        continue\n",
    "    elif re.search(\"\\s\",p):\n",
    "        continue\n",
    "    else:\n",
    "        pass\n",
    "    value.append(p)\n",
    "print(\",\".join(value))"
   ]
  },
  {
   "cell_type": "code",
   "execution_count": null,
   "id": "8e06c0b8",
   "metadata": {},
   "outputs": [],
   "source": []
  }
 ],
 "metadata": {
  "kernelspec": {
   "display_name": "Python 3 (ipykernel)",
   "language": "python",
   "name": "python3"
  },
  "language_info": {
   "codemirror_mode": {
    "name": "ipython",
    "version": 3
   },
   "file_extension": ".py",
   "mimetype": "text/x-python",
   "name": "python",
   "nbconvert_exporter": "python",
   "pygments_lexer": "ipython3",
   "version": "3.7.9"
  }
 },
 "nbformat": 4,
 "nbformat_minor": 5
}
