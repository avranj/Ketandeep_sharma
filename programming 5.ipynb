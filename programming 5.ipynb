{
 "cells": [
  {
   "cell_type": "code",
   "execution_count": 2,
   "id": "71b160a2",
   "metadata": {},
   "outputs": [
    {
     "name": "stdout",
     "output_type": "stream",
     "text": [
      "lcm = 60\n"
     ]
    }
   ],
   "source": [
    "# 1 find lcm\n",
    "def lcm(x,y):\n",
    "    if x>y:\n",
    "        num=x\n",
    "    else:\n",
    "        num=y\n",
    "        \n",
    "    while(True):\n",
    "        if(num%x==0 and num%y==0):\n",
    "            lcm=num\n",
    "            break\n",
    "        num=num+1\n",
    "        \n",
    "    return lcm    \n",
    "\n",
    "\n",
    "x=12\n",
    "y=15\n",
    "a=lcm(x,y)\n",
    "print(\"lcm =\",a)"
   ]
  },
  {
   "cell_type": "code",
   "execution_count": 6,
   "id": "a2a1e07f",
   "metadata": {},
   "outputs": [
    {
     "name": "stdout",
     "output_type": "stream",
     "text": [
      "hcf =  4\n"
     ]
    }
   ],
   "source": [
    "#2 find hcf\n",
    "def hcf(x,y):\n",
    "    if(x>y):\n",
    "        smaller=y\n",
    "    else:\n",
    "        smaller=x\n",
    "    for i in range(1,smaller+1):\n",
    "        if x%i==0 and y%i==0:\n",
    "            hcf=i\n",
    "    return hcf        \n",
    "\n",
    "x=8\n",
    "y=12\n",
    "a=hcf(x,y)\n",
    "print(\"hcf = \",a)"
   ]
  },
  {
   "cell_type": "code",
   "execution_count": 7,
   "id": "152863c0",
   "metadata": {},
   "outputs": [
    {
     "name": "stdout",
     "output_type": "stream",
     "text": [
      "decimal =  234\n",
      "binary =  0b11101010\n",
      "octal =  0o352\n",
      "hexadecimal =  0xea\n"
     ]
    }
   ],
   "source": [
    "#3 decimal ------> binary , octal , hexadecimal\n",
    "# in python we generally follow simplyfy approach to do our task\n",
    "\n",
    "dec=234\n",
    "print(\"decimal = \",dec)\n",
    "print(\"binary = \",bin(dec))\n",
    "print(\"octal = \",oct(dec))\n",
    "print(\"hexadecimal = \",hex(dec))\n"
   ]
  },
  {
   "cell_type": "code",
   "execution_count": 10,
   "id": "ce3d63d1",
   "metadata": {},
   "outputs": [
    {
     "name": "stdout",
     "output_type": "stream",
     "text": [
      "118\n"
     ]
    }
   ],
   "source": [
    "#ascii value of a character\n",
    "a=\"v\"\n",
    "res=ord(a)\n",
    "print(res)"
   ]
  },
  {
   "cell_type": "code",
   "execution_count": 12,
   "id": "88de27e4",
   "metadata": {},
   "outputs": [
    {
     "name": "stdout",
     "output_type": "stream",
     "text": [
      " arithematic calculator\n",
      "enter first number\n",
      "4\n",
      "enter second number\n",
      "7\n",
      "enter choice for operation to perform\n",
      "1 for addition\n",
      "2 for subtraction\n",
      "3 for multiplication\n",
      "4 for division\n",
      "4\n",
      "dividation 0.5714285714285714\n"
     ]
    }
   ],
   "source": [
    "# calculator\n",
    "print(\" arithematic calculator\")\n",
    "print(\"enter first number\")\n",
    "a=int(input())\n",
    "print(\"enter second number\")\n",
    "b=int(input())\n",
    "print(\"enter choice for operation to perform\")\n",
    "print(\"1 for addition\")\n",
    "print(\"2 for subtraction\")\n",
    "print(\"3 for multiplication\")\n",
    "print(\"4 for division\")\n",
    "x=int(input())\n",
    "\n",
    "if(x==1):\n",
    "    print(\"addition\",a+b)\n",
    "elif x==2:\n",
    "    print(\"subtraction\",a-b)\n",
    "elif x==3:\n",
    "    print(\"multiplication\",a*b)\n",
    "elif x==4:\n",
    "    print(\"dividation\",a/b)\n",
    "else:\n",
    "    print(\"invalid input\")"
   ]
  },
  {
   "cell_type": "code",
   "execution_count": null,
   "id": "f03671b0",
   "metadata": {},
   "outputs": [],
   "source": []
  }
 ],
 "metadata": {
  "kernelspec": {
   "display_name": "Python 3 (ipykernel)",
   "language": "python",
   "name": "python3"
  },
  "language_info": {
   "codemirror_mode": {
    "name": "ipython",
    "version": 3
   },
   "file_extension": ".py",
   "mimetype": "text/x-python",
   "name": "python",
   "nbconvert_exporter": "python",
   "pygments_lexer": "ipython3",
   "version": "3.7.9"
  }
 },
 "nbformat": 4,
 "nbformat_minor": 5
}
