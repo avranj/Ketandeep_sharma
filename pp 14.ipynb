{
 "cells": [
  {
   "cell_type": "code",
   "execution_count": 3,
   "id": "52cb89b9",
   "metadata": {},
   "outputs": [
    {
     "name": "stdout",
     "output_type": "stream",
     "text": [
      "1\n",
      "1\n",
      "1\n"
     ]
    }
   ],
   "source": [
    "# Define a class with a generator which can iterate the numbers, which are divisible by 7, between a given range 0 and n.\n",
    "\n",
    "def gen(n):\n",
    "    for i in range(n):\n",
    "        x=n//7\n",
    "        yield x\n",
    "        \n",
    "a=gen(8)    \n",
    "print(next(a))\n",
    "print(next(a))\n",
    "print(next(a))\n",
    "    "
   ]
  },
  {
   "cell_type": "code",
   "execution_count": 12,
   "id": "1b842f13",
   "metadata": {},
   "outputs": [
    {
     "name": "stdout",
     "output_type": "stream",
     "text": [
      "Male gender\n"
     ]
    }
   ],
   "source": [
    "# Define a class Person and its two child classes: Male and Female. All classes have a method \"getGender\" which can print \"Male\" for Male class and \"Female\" for Female class.\n",
    "\n",
    "class Person:\n",
    "    pass\n",
    "        \n",
    "class Male(Person):\n",
    "    \n",
    "    def getGender(self):\n",
    "        print(\"Male gender\")\n",
    "        \n",
    "class Female(Person):\n",
    "    def getGender(self):\n",
    "        print(\"Female gender\")\n",
    "     \n",
    "p1 = Person()\n",
    "p2 = Male()\n",
    "p2.getGender()\n",
    "        "
   ]
  },
  {
   "cell_type": "code",
   "execution_count": 16,
   "id": "8e7c5c96",
   "metadata": {},
   "outputs": [
    {
     "name": "stdout",
     "output_type": "stream",
     "text": [
      "('I', 'love', 'cricket')\n",
      "('I', 'love', 'football')\n",
      "('I', 'play', 'cricket')\n",
      "('I', 'play', 'football')\n",
      "('you', 'love', 'cricket')\n",
      "('you', 'love', 'football')\n",
      "('you', 'play', 'cricket')\n",
      "('you', 'play', 'football')\n"
     ]
    }
   ],
   "source": [
    "# Please write a program to generate all sentences where subject is in [\"I\", \"You\"] and verb is in [\"Play\", \"Love\"] and the object is in [\"Hockey\",\"Football\"].\n",
    "subject=[\"I\", \"you\"]\n",
    "verbs=[\"love\", \"play\"]\n",
    "object=['cricket','football']\n",
    "\n",
    "for i in range(len(subject)):\n",
    "    for j in range(len(verbs)):\n",
    "                   for k in range(len(object)):\n",
    "                          a=(subject[i],verbs[j],object[k])\n",
    "                          print(a)\n",
    "                   \n",
    "        \n",
    "    "
   ]
  },
  {
   "cell_type": "code",
   "execution_count": 21,
   "id": "39a3fdfa",
   "metadata": {},
   "outputs": [
    {
     "name": "stdout",
     "output_type": "stream",
     "text": [
      "b'x\\x9c\\xcbN-I\\xccKIM-PT\\xd0\\xd7W(\\xceH,\\xcaMt\\x00\\x00Q\\xd1\\x07-'\n",
      "b'x\\x9c\\xcbN-I\\xccKIM-PT\\xd0\\xd7W(\\xceH,\\xcaMt\\x00\\x00Q\\xd1\\x07-'\n"
     ]
    }
   ],
   "source": [
    "# Please write a program to compress and decompress the string \"hello world!hello world!hello world!hello world!\".\n",
    "import zlib\n",
    "s=\"ketandeep! // sharma@\"\n",
    "y=bytes(s,'utf-8')\n",
    "t=zlib.compress(y)\n",
    "print(t)\n",
    "n=zlib.decompress(t)\n",
    "print(t)"
   ]
  },
  {
   "cell_type": "code",
   "execution_count": 24,
   "id": "9999c1a0",
   "metadata": {},
   "outputs": [
    {
     "name": "stdout",
     "output_type": "stream",
     "text": [
      "4\n"
     ]
    }
   ],
   "source": [
    "# Please write a binary search function which searches an item in a sorted list. The function should return the index of element to be searched in the list.\n",
    "\n",
    "import math\n",
    "def bin_search(li, element):\n",
    "    bottom = 0\n",
    "    top = len(li)-1\n",
    "    index = -1\n",
    "    while top>=bottom and index==-1:\n",
    "        mid = int(math.floor((top+bottom)/2.0))\n",
    "        if li[mid]==element:\n",
    "            index = mid\n",
    "        elif li[mid]>element:\n",
    "            top = mid-1\n",
    "        else:\n",
    "            bottom = mid+1\n",
    "\n",
    "    return index\n",
    "\n",
    "li=[2,5,7,9,11,17,222]\n",
    "print( bin_search(li,11))\n"
   ]
  },
  {
   "cell_type": "code",
   "execution_count": null,
   "id": "d4bc5236",
   "metadata": {},
   "outputs": [],
   "source": []
  }
 ],
 "metadata": {
  "kernelspec": {
   "display_name": "Python 3 (ipykernel)",
   "language": "python",
   "name": "python3"
  },
  "language_info": {
   "codemirror_mode": {
    "name": "ipython",
    "version": 3
   },
   "file_extension": ".py",
   "mimetype": "text/x-python",
   "name": "python",
   "nbconvert_exporter": "python",
   "pygments_lexer": "ipython3",
   "version": "3.7.9"
  }
 },
 "nbformat": 4,
 "nbformat_minor": 5
}
